{
 "cells": [
  {
   "cell_type": "code",
   "execution_count": 1,
   "id": "suburban-negative",
   "metadata": {},
   "outputs": [],
   "source": [
    "import os\n",
    "\n",
    "os.environ['DJANGO_SETTINGS_MODULE'] = 'tutorialdjango.settings' # manage.py에 있는 것\n",
    "os.environ[\"DJANGO_ALLOW_ASYNC_UNSAFE\"] = 'true'"
   ]
  },
  {
   "cell_type": "code",
   "execution_count": 2,
   "id": "suspected-wisconsin",
   "metadata": {},
   "outputs": [],
   "source": [
    "import django\n",
    "\n",
    "django.setup()"
   ]
  },
  {
   "cell_type": "code",
   "execution_count": 5,
   "id": "scenic-lending",
   "metadata": {},
   "outputs": [],
   "source": [
    "from main.models import Cafe"
   ]
  },
  {
   "cell_type": "code",
   "execution_count": 6,
   "id": "cosmetic-orientation",
   "metadata": {},
   "outputs": [
    {
     "data": {
      "text/plain": [
       "<QuerySet [<Cafe: cafename1>, <Cafe: cafename2>, <Cafe: cafename3>]>"
      ]
     },
     "execution_count": 6,
     "metadata": {},
     "output_type": "execute_result"
    }
   ],
   "source": [
    "Cafe.objects.all() #카페에 넣었던 것들이 다 출력"
   ]
  },
  {
   "cell_type": "code",
   "execution_count": 9,
   "id": "announced-favor",
   "metadata": {},
   "outputs": [
    {
     "name": "stdout",
     "output_type": "stream",
     "text": [
      "cafename1\n",
      "cafecontent1\n",
      "2021-03-21 13:30:43.180916+00:00\n",
      "cafename2\n",
      "cafecontent2\n",
      "2021-03-21 13:31:29.998447+00:00\n",
      "cafename3\n",
      "cafecontent3\n",
      "2021-03-21 13:31:47.483168+00:00\n"
     ]
    }
   ],
   "source": [
    "for i in Cafe.objects.all():\n",
    "    print(i.name)\n",
    "    print(i.content)\n",
    "    print(i.created)"
   ]
  },
  {
   "cell_type": "code",
   "execution_count": 10,
   "id": "naval-belgium",
   "metadata": {},
   "outputs": [
    {
     "data": {
      "text/plain": [
       "<QuerySet [<Cafe: cafename1>]>"
      ]
     },
     "execution_count": 10,
     "metadata": {},
     "output_type": "execute_result"
    }
   ],
   "source": [
    "Cafe.objects.all().filter(name='cafename1')"
   ]
  },
  {
   "cell_type": "code",
   "execution_count": 11,
   "id": "vertical-focus",
   "metadata": {},
   "outputs": [
    {
     "data": {
      "text/plain": [
       "<QuerySet [<Cafe: cafename1>]>"
      ]
     },
     "execution_count": 11,
     "metadata": {},
     "output_type": "execute_result"
    }
   ],
   "source": [
    "Cafe.objects.all().filter(name='cafename1',content='cafecontent1')"
   ]
  },
  {
   "cell_type": "code",
   "execution_count": null,
   "id": "dense-myanmar",
   "metadata": {},
   "outputs": [],
   "source": []
  }
 ],
 "metadata": {
  "kernelspec": {
   "display_name": "Python 3",
   "language": "python",
   "name": "python3"
  },
  "language_info": {
   "codemirror_mode": {
    "name": "ipython",
    "version": 3
   },
   "file_extension": ".py",
   "mimetype": "text/x-python",
   "name": "python",
   "nbconvert_exporter": "python",
   "pygments_lexer": "ipython3",
   "version": "3.7.4"
  }
 },
 "nbformat": 4,
 "nbformat_minor": 5
}
